{
  "cells": [
    {
      "cell_type": "markdown",
      "metadata": {
        "id": "lcPuszv4pumE"
      },
      "source": [
        "# OOD Detection\n",
        "The purpose of this lab project is to enhance our understanding of OOD detection. After accomplishing the lab project, you should be able to:\n",
        "- Code different OOD score functions and use them for OOD detection.\n",
        "- Perform benchmarking experiments involving different OOD score functions and different metrics.\n",
        "- Visualize OOD detection results and check for common mistakes in OOD detection experiments.\n",
        "\n",
        "As usual, we start by importing the necessary libraries."
      ]
    },
    {
      "cell_type": "code",
      "execution_count": 11,
      "metadata": {
        "id": "dFF9ViN7wTt4",
        "colab": {
          "base_uri": "https://localhost:8080/"
        },
        "outputId": "b52e9884-a086-4901-90eb-e54b3d2ce182"
      },
      "outputs": [
        {
          "output_type": "stream",
          "name": "stdout",
          "text": [
            "cuda\n"
          ]
        }
      ],
      "source": [
        "import torch\n",
        "import torch.nn as nn\n",
        "import torch.optim as optim\n",
        "from torchvision import datasets, transforms, models\n",
        "from torch.utils.data import DataLoader\n",
        "from sklearn.metrics import roc_auc_score, precision_recall_curve\n",
        "import numpy as np\n",
        "import matplotlib.pyplot as plt\n",
        "\n",
        "device = torch.device(\"cuda\" if torch.cuda.is_available() else \"cpu\")\n",
        "print(device)"
      ]
    },
    {
      "cell_type": "markdown",
      "metadata": {
        "id": "I9ME3YsEuwkt"
      },
      "source": [
        "## 1. Data\n",
        "The ultimate purpose of this notebook is to perform a benchmarking experiment in order to compare multiple OOD scores and OOD detection algorithms. To that end, we will use three different data sets:\n",
        "1. The **Cifar-10 train** dataset in order to train a simple convolutional neural network for the task of image classification.\n",
        "2. The **Cifar-10 test** set as the *in-distribution* dataset (i.e. the dataset of normal examples), for evaluating the different OOD scores.\n",
        "3. (A subset of) The **SVHN test** set as the *out-of-distribution* dataset (i.e. the dataset of anomalous examples), for evaluating the different OOD scores.\n",
        "\n"
      ]
    },
    {
      "cell_type": "code",
      "execution_count": 12,
      "metadata": {
        "id": "CJ2PXiekpT_N",
        "colab": {
          "base_uri": "https://localhost:8080/"
        },
        "outputId": "f08cd720-3bbe-4f19-fc2d-69b5d04f5dc5"
      },
      "outputs": [
        {
          "output_type": "stream",
          "name": "stdout",
          "text": [
            "Files already downloaded and verified\n",
            "Files already downloaded and verified\n",
            "Using downloaded and verified file: ./data/test_32x32.mat\n"
          ]
        }
      ],
      "source": [
        "# Data loading and preprocessing\n",
        "batch_size = 128\n",
        "\n",
        "transform = transforms.Compose([transforms.ToTensor(), transforms.Normalize((0.5,), (0.5,))])\n",
        "\n",
        "cifar_train = datasets.CIFAR10(root='./data', train=True, transform=transform, download=True)\n",
        "cifar_test = datasets.CIFAR10(root='./data', train=False, transform=transform, download=True)\n",
        "svhn_test = datasets.SVHN(root='./data', split='test', transform=transform, download=True)\n",
        "\n",
        "# Extract 10_000 random images from the svhn_test set\n",
        "svhn_test, _ = torch.utils.data.random_split(svhn_test, [10_000, len(svhn_test) - 10_000])\n",
        "\n",
        "train_loader = DataLoader(cifar_train, batch_size=batch_size, shuffle=True)\n",
        "cifar_test_loader = DataLoader(cifar_test, batch_size=batch_size, shuffle=False)\n",
        "svhn_test_loader = DataLoader(svhn_test, batch_size=batch_size, shuffle=False)"
      ]
    },
    {
      "cell_type": "code",
      "source": [
        "print(f\"Number of training samples: {len(cifar_train)}\")\n",
        "print(f\"Number of test samples: {len(cifar_test)}\")\n",
        "print(f\"Number of SVHN test samples: {len(svhn_test)}\")"
      ],
      "metadata": {
        "id": "VID62MuAlh_3",
        "colab": {
          "base_uri": "https://localhost:8080/"
        },
        "outputId": "5118cfb5-2ca5-43fc-86c9-103df66804d0"
      },
      "execution_count": 13,
      "outputs": [
        {
          "output_type": "stream",
          "name": "stdout",
          "text": [
            "Number of training samples: 50000\n",
            "Number of test samples: 10000\n",
            "Number of SVHN test samples: 10000\n"
          ]
        }
      ]
    },
    {
      "cell_type": "markdown",
      "metadata": {
        "id": "haXIuOIWyhRd"
      },
      "source": [
        "## 2. CNN Classifier\n",
        "We will first train a CNN Classifier on the Cifar-10 training data, for the task of classifying the Cifar-10 images.\n",
        "\n",
        "The architecture of the CNN should be:\n",
        "- A convolutional layer with 32 filters, kernel size 3, stride 1 and padding 1.\n",
        "- A ReLU activation\n",
        "- A max pooling layer with kernel size 2.\n",
        "- A convolutional layer with 64 filters, kernel size 3, stride 1 and padding 1.\n",
        "- A ReLU activation\n",
        "- A max pooling layer with kernel size 2.\n",
        "- A fully connected layer with 128 neurons.\n",
        "- A ReLU activations (the activations after this layer will be called the \"features of the penultimate layer\").\n",
        "- A fully connected layer with 10 neurons.\n",
        "\n",
        "This CNN will output the logit values.\n",
        "\n",
        "**Exercise** Define a CNN having the above architecture by implementing the `__init__` and `forward` methods below. Bare in mind that some of the OOD scores we will define require access to the features of the penultimate layer.\n",
        "- Add a `return_features` argument to the `forward` method, defaulting to `False`. If `return_features` is set to `True`, the `forward` method should return the features of the penultimate layer instead of the logit values."
      ]
    },
    {
      "cell_type": "code",
      "execution_count": 14,
      "metadata": {
        "id": "MCxJ73k9iS4c"
      },
      "outputs": [],
      "source": [
        "# Define the SimpleCNN class\n",
        "class SimpleCNN(nn.Module):\n",
        "    def __init__(self):\n",
        "        super(SimpleCNN, self).__init__()\n",
        "        # Define the first convolutional layer\n",
        "        self.conv1 = nn.Conv2d(in_channels=3, out_channels=32, kernel_size=3, stride=1, padding=1)\n",
        "        self.relu1 = nn.ReLU()\n",
        "        self.pool1 = nn.MaxPool2d(kernel_size=2)\n",
        "\n",
        "        # Define the second convolutional layer\n",
        "        self.conv2 = nn.Conv2d(in_channels=32, out_channels=64, kernel_size=3, stride=1, padding=1)\n",
        "        self.relu2 = nn.ReLU()\n",
        "        self.pool2 = nn.MaxPool2d(kernel_size=2)\n",
        "\n",
        "        # Define the fully connected layers\n",
        "        self.fc1 = nn.Linear(in_features=64 * 8 * 8, out_features=128)  # Input size is reduced after pooling\n",
        "        self.relu3 = nn.ReLU()\n",
        "        self.fc2 = nn.Linear(in_features=128, out_features=10)  # Output layer for 10 classes\n",
        "\n",
        "    def forward(self, x, return_features=False):\n",
        "        # Apply the first convolutional layer\n",
        "        x = self.conv1(x)\n",
        "        x = self.relu1(x)\n",
        "        x = self.pool1(x)\n",
        "\n",
        "        # Apply the second convolutional layer\n",
        "        x = self.conv2(x)\n",
        "        x = self.relu2(x)\n",
        "        x = self.pool2(x)\n",
        "\n",
        "        # Flatten the tensor for fully connected layers\n",
        "        x = x.view(x.size(0), -1)  # Flatten the features\n",
        "\n",
        "        # Apply the first fully connected layer\n",
        "        features = self.fc1(x)\n",
        "        x = self.relu3(features)\n",
        "\n",
        "        # Apply the final output layer\n",
        "        logits = self.fc2(x)\n",
        "\n",
        "        # Return features of the penultimate layer if requested\n",
        "        if return_features:\n",
        "            return logits, features\n",
        "        return logits\n"
      ]
    },
    {
      "cell_type": "markdown",
      "metadata": {
        "id": "tWAWS1hvyq0J"
      },
      "source": [
        "## 3. Training\n",
        "We will train the above CNN on the Cifar-10 training set.\n",
        "\n",
        "**Exercise.** Train the CNN:\n",
        "- For 5 epochs\n",
        "- Using a learning rate of 0.001\n",
        "- Choose an appropriate loss function\n",
        "- Using the Adam optimizer\n",
        "- Print the mean loss of the epoch at the end of each epoch.\n",
        "- *Optional.* You can choose to monitor the training by printing the train/test accuracy too."
      ]
    },
    {
      "cell_type": "code",
      "execution_count": 15,
      "metadata": {
        "id": "dYfG_bMxyoZu"
      },
      "outputs": [],
      "source": [
        "model = SimpleCNN().to(device)"
      ]
    },
    {
      "cell_type": "code",
      "execution_count": 16,
      "metadata": {
        "id": "vnaQfKb6zKbt",
        "outputId": "01a5cfd1-8e6e-4627-9e01-8073bbeb2061",
        "colab": {
          "base_uri": "https://localhost:8080/"
        }
      },
      "outputs": [
        {
          "output_type": "stream",
          "name": "stdout",
          "text": [
            "Epoch [1/5], Loss: 1.4132, Accuracy: 49.30%\n",
            "Epoch [2/5], Loss: 1.0393, Accuracy: 63.41%\n",
            "Epoch [3/5], Loss: 0.8848, Accuracy: 68.99%\n",
            "Epoch [4/5], Loss: 0.7785, Accuracy: 72.78%\n",
            "Epoch [5/5], Loss: 0.6849, Accuracy: 76.11%\n",
            "Test Accuracy: 71.96%\n"
          ]
        }
      ],
      "source": [
        "criterion = nn.CrossEntropyLoss()  # Suitable for multi-class classification\n",
        "optimizer = optim.Adam(model.parameters(), lr=0.001)\n",
        "num_epochs = 5\n",
        "# Training loop\n",
        "def train_model():\n",
        "    model.train()  # Set the model to training mode\n",
        "    for epoch in range(num_epochs):\n",
        "        total_loss = 0\n",
        "        correct = 0\n",
        "        total = 0\n",
        "        for images, labels in train_loader:\n",
        "            # Move data to device if using GPU\n",
        "            images, labels = images.to(device), labels.to(device)\n",
        "\n",
        "            # Forward pass\n",
        "            outputs = model(images)\n",
        "            loss = criterion(outputs, labels)\n",
        "\n",
        "            # Backward pass and optimization\n",
        "            optimizer.zero_grad()\n",
        "            loss.backward()\n",
        "            optimizer.step()\n",
        "\n",
        "            total_loss += loss.item()\n",
        "            _, predicted = outputs.max(1)\n",
        "            correct += (predicted == labels).sum().item()\n",
        "            total += labels.size(0)\n",
        "\n",
        "        # Print epoch statistics\n",
        "        print(f\"Epoch [{epoch + 1}/{num_epochs}], Loss: {total_loss / len(train_loader):.4f}, \"\n",
        "              f\"Accuracy: {100 * correct / total:.2f}%\")\n",
        "\n",
        "# Optional: Evaluate on test set\n",
        "def evaluate_model():\n",
        "    model.eval()  # Set the model to evaluation mode\n",
        "    correct = 0\n",
        "    total = 0\n",
        "    with torch.no_grad():\n",
        "        for images, labels in cifar_test_loader:\n",
        "            images, labels = images.to(device), labels.to(device)\n",
        "            outputs = model(images)\n",
        "            _, predicted = outputs.max(1)\n",
        "            correct += (predicted == labels).sum().item()\n",
        "            total += labels.size(0)\n",
        "\n",
        "    print(f\"Test Accuracy: {100 * correct / total:.2f}%\")\n",
        "\n",
        "# Train and evaluate the model\n",
        "train_model()\n",
        "evaluate_model()"
      ]
    },
    {
      "cell_type": "code",
      "execution_count": 17,
      "metadata": {
        "id": "OOu4spKZzNal",
        "colab": {
          "base_uri": "https://localhost:8080/"
        },
        "outputId": "e7de1013-7d00-49b7-9cf2-a0536d5aa919"
      },
      "outputs": [
        {
          "output_type": "stream",
          "name": "stdout",
          "text": [
            "Epoch [1/5], Loss: 0.6074, Accuracy: 78.74%\n",
            "Epoch [2/5], Loss: 0.5305, Accuracy: 81.65%\n",
            "Epoch [3/5], Loss: 0.4541, Accuracy: 84.38%\n",
            "Epoch [4/5], Loss: 0.3863, Accuracy: 86.63%\n",
            "Epoch [5/5], Loss: 0.3187, Accuracy: 89.23%\n"
          ]
        }
      ],
      "source": [
        "train_model()"
      ]
    },
    {
      "cell_type": "markdown",
      "source": [
        "**Exercise.** Print the test loss and the test accuray after training."
      ],
      "metadata": {
        "id": "gH0qDQjyPg0Q"
      }
    },
    {
      "cell_type": "code",
      "execution_count": 18,
      "metadata": {
        "id": "LmyLFJJy0KS9"
      },
      "outputs": [],
      "source": [
        "# TODO: print test loss and accuracy"
      ]
    },
    {
      "cell_type": "markdown",
      "source": [
        "## 4. OOD Metrics\n",
        "The objective of this section is to define the different OOD metrics studied during the lectures. Recall that we have seen two kinf of metrics:\n",
        "1. Fixed-threshold metrics.\n",
        "2. Threshold-independent metrics."
      ],
      "metadata": {
        "id": "Fxuio_z6hUv9"
      }
    },
    {
      "cell_type": "markdown",
      "metadata": {
        "id": "THtpVgN80wMx"
      },
      "source": [
        "### 4.1. Fixed-threshold metrics\n",
        "We will start to define the metrics for OOD detectors with a fixed threshold. The inputs to all of our metrics below will be:\n",
        "- The `scores_negatives` nupy array: an array containing the scores for the ground truth negative images (i.e. the Cifar-10 test images).\n",
        "- The `scores_positives` numpy array: an array containing the scores for the ground truth positive images (i.e. the SVHN test images).\n",
        "- The `threshold` floating point number. The threshold value $\\tau$ such that such that our OOD detector classifies examples according to their score as follwos:\n",
        "$$\\begin{cases}\n",
        "s \\leq \\tau\\quad &⇒\\quad \\text{negative}\\\\\n",
        "s > \\tau\\quad &⇒\\quad \\text{positive}\n",
        "\\end{cases}$$\n",
        "- Any other parameters necessary for the metric in question.\n",
        "\n",
        "**Exercise.** Define the functions below:\n",
        "1. A `confusion_matrix` function that outputs the number of *false positives*, *true positives*, *true negatives* and *false negatives*.\n",
        "2. A `tpr_fpr` function that outputs the  *true positive rate* and *false positive rate*.\n",
        "3. An `accuracy` function that outputs the accuracy.\n",
        "4. A `precission_recall` function that outputs the *precision* and the *recall*.\n",
        "5. A `f_beta` function that takes an additional input argument `beta` and returns the corresponding $F_\\beta$ score."
      ]
    },
    {
      "cell_type": "code",
      "execution_count": 33,
      "metadata": {
        "id": "mK0fPuID0mv2"
      },
      "outputs": [],
      "source": [
        "\n",
        "\n",
        "def confusion_matrix(scores_negatives, scores_positives, threshold):\n",
        "    \"\"\"\n",
        "    Compute the confusion matrix components: FP, TP, TN, FN.\n",
        "    \"\"\"\n",
        "    # Negative images classified as positive (false positives)\n",
        "    fp = np.sum(scores_negatives > threshold)\n",
        "    # Positive images classified as positive (true positives)\n",
        "    tp = np.sum(scores_positives > threshold)\n",
        "    # Negative images classified as negative (true negatives)\n",
        "    tn = np.sum(scores_negatives <= threshold)\n",
        "    # Positive images classified as negative (false negatives)\n",
        "    fn = np.sum(scores_positives <= threshold)\n",
        "\n",
        "    return fp, tp, tn, fn\n",
        "\n",
        "def tpr_fpr(scores_negatives, scores_positives, threshold):\n",
        "    \"\"\"\n",
        "    Compute the true positive rate (TPR) and false positive rate (FPR).\n",
        "    \"\"\"\n",
        "    fp, tp, tn, fn = confusion_matrix(scores_negatives, scores_positives, threshold)\n",
        "    # True positive rate: TP / (TP + FN)\n",
        "    tpr = tp / (tp + fn) if (tp + fn) > 0 else 0\n",
        "    # False positive rate: FP / (FP + TN)\n",
        "    fpr = fp / (fp + tn) if (fp + tn) > 0 else 0\n",
        "\n",
        "    return tpr, fpr\n",
        "\n",
        "def accuracy(scores_negatives, scores_positives, threshold):\n",
        "    \"\"\"\n",
        "    Compute the accuracy.\n",
        "    \"\"\"\n",
        "    fp, tp, tn, fn = confusion_matrix(scores_negatives, scores_positives, threshold)\n",
        "    # Accuracy: (TP + TN) / (Total)\n",
        "    total = tp + tn + fp + fn\n",
        "    acc = (tp + tn) / total if total > 0 else 0\n",
        "\n",
        "    return acc\n",
        "\n",
        "def precision_recall(scores_negatives, scores_positives, threshold):\n",
        "    \"\"\"\n",
        "    Compute the precision and recall.\n",
        "    \"\"\"\n",
        "    fp, tp, tn, fn = confusion_matrix(scores_negatives, scores_positives, threshold)\n",
        "    # Precision: TP / (TP + FP)\n",
        "    precision = tp / (tp + fp) if (tp + fp) > 0 else 0\n",
        "    # Recall: TP / (TP + FN)\n",
        "    recall = tp / (tp + fn) if (tp + fn) > 0 else 0\n",
        "\n",
        "    return precision, recall\n",
        "\n",
        "def f_beta(scores_negatives, scores_positives, threshold, beta):\n",
        "    \"\"\"\n",
        "    Compute the F-beta score.\n",
        "    \"\"\"\n",
        "    precision, recall = precision_recall(scores_negatives, scores_positives, threshold)\n",
        "    # F-beta score: (1 + beta^2) * (Precision * Recall) / (beta^2 * Precision + Recall)\n",
        "    beta_squared = beta ** 2\n",
        "    f_beta_score = (1 + beta_squared) * (precision * recall) / (beta_squared * precision + recall) if (beta_squared * precision + recall) > 0 else 0\n",
        "\n",
        "    return f_beta_score\n",
        "\n",
        "def fixed_threshold_metrics(scores_negatives, scores_positives, threshold):\n",
        "    \"\"\"\n",
        "    Compute fixed-threshold metrics: Accuracy, TPR, Precision, Recall, F1.\n",
        "\n",
        "    Args:\n",
        "    - scores_negatives: Scores for negative samples.\n",
        "    - scores_positives: Scores for positive samples.\n",
        "    - threshold: Threshold value.\n",
        "\n",
        "    Returns:\n",
        "    - metrics: Dictionary of computed metrics.\n",
        "    \"\"\"\n",
        "    # Compute confusion matrix\n",
        "    fp, tp, tn, fn = confusion_matrix(scores_negatives, scores_positives, threshold)\n",
        "\n",
        "    # Compute individual metrics\n",
        "    acc = accuracy(scores_negatives, scores_positives, threshold)\n",
        "    tpr, _ = tpr_fpr(scores_negatives, scores_positives, threshold)  # TPR = Recall\n",
        "    precision, recall = precision_recall(scores_negatives, scores_positives, threshold)\n",
        "    f1 = f_beta(scores_negatives, scores_positives, threshold, beta=1)  # F1 = F-beta with beta=1\n",
        "\n",
        "    # Store results\n",
        "    return {\n",
        "        'Accuracy': acc,\n",
        "        'TPR': tpr,\n",
        "        'Precision': precision,\n",
        "        'Recall': recall,\n",
        "        'F1': f1\n",
        "    }\n"
      ]
    },
    {
      "cell_type": "markdown",
      "source": [
        "### 4.2. Threshold-independent metrics\n",
        "**Exercise.** Define the function `roc_auc` that:\n",
        "- Takes as input the `scores_negatives` and `scores_positives` numpy arrays.\n",
        "- Plots the *ROC curve*.\n",
        "- Returns the value of the *AUROC* as the area under the *ROC curve*."
      ],
      "metadata": {
        "id": "rR3-4eu_SX6z"
      }
    },
    {
      "cell_type": "code",
      "execution_count": 20,
      "metadata": {
        "id": "GCp31Q4K-3cA"
      },
      "outputs": [],
      "source": [
        "def roc_auc(scores_negatives, scores_positives):\n",
        "    \"\"\"\n",
        "    Computes the ROC curve, plots it, and returns the AUROC.\n",
        "\n",
        "    Args:\n",
        "    - scores_negatives: numpy array of scores for negative samples.\n",
        "    - scores_positives: numpy array of scores for positive samples.\n",
        "\n",
        "    Returns:\n",
        "    - auroc: Area under the ROC curve.\n",
        "    \"\"\"\n",
        "    # Combine scores and create labels\n",
        "    scores = np.concatenate((scores_negatives, scores_positives))\n",
        "    labels = np.concatenate((np.zeros_like(scores_negatives), np.ones_like(scores_positives)))\n",
        "\n",
        "    # Sort scores and labels by scores in ascending order\n",
        "    sorted_indices = np.argsort(scores)\n",
        "    scores = scores[sorted_indices]\n",
        "    labels = labels[sorted_indices]\n",
        "\n",
        "    # Initialize TPR and FPR\n",
        "    tpr = []\n",
        "    fpr = []\n",
        "    n_pos = np.sum(labels)\n",
        "    n_neg = len(labels) - n_pos\n",
        "\n",
        "    tp = n_pos\n",
        "    fp = n_neg\n",
        "\n",
        "    # Loop through all thresholds (i.e., all scores)\n",
        "    for i in range(len(scores)):\n",
        "        # Update TPR and FPR\n",
        "        tpr.append(tp / n_pos if n_pos > 0 else 0)\n",
        "        fpr.append(fp / n_neg if n_neg > 0 else 0)\n",
        "\n",
        "        # If the current score is a positive label, decrement tp\n",
        "        if labels[i] == 1:\n",
        "            tp -= 1\n",
        "        else:  # Otherwise, decrement fp\n",
        "            fp -= 1\n",
        "\n",
        "    # Convert TPR and FPR lists to numpy arrays\n",
        "    tpr = np.array(tpr)\n",
        "    fpr = np.array(fpr)\n",
        "\n",
        "    # Compute AUROC using the trapezoidal rule\n",
        "    auroc = np.trapz(tpr, fpr)\n",
        "\n",
        "    # Plot the ROC curve\n",
        "    plt.figure(figsize=(8, 6))\n",
        "    plt.plot(fpr, tpr, label=f\"ROC Curve (AUROC = {auroc:.4f})\")\n",
        "    plt.plot([0, 1], [0, 1], 'r--', label=\"Random Classifier\")\n",
        "    plt.xlabel(\"False Positive Rate (FPR)\")\n",
        "    plt.ylabel(\"True Positive Rate (TPR)\")\n",
        "    plt.title(\"Receiver Operating Characteristic (ROC) Curve\")\n",
        "    plt.legend()\n",
        "    plt.grid()\n",
        "    plt.show()\n",
        "\n",
        "    return auroc\n"
      ]
    },
    {
      "cell_type": "markdown",
      "source": [
        "\n",
        "## 5. OOD Scores\n",
        "In this section, we will implement the different OOD scores seen during the lecture. Recall that we can split the different OOD scores into two score families:\n",
        "1. Logit-based scores.\n",
        "2. Feature-based scores."
      ],
      "metadata": {
        "id": "jzxzEdZmUMN5"
      }
    },
    {
      "cell_type": "markdown",
      "source": [
        "### 5.1. Logit-based scores\n",
        "Logit-based scores are simpler to implement than feature-based scores. We will implement each of the logit-based scores as a function that takes as inputs the `logits` array of logits of the different test points,\n",
        "and returns the array of test point scores.\n",
        "\n",
        "**Exercise.** Complete the functions below with the formulas seen during the lecture."
      ],
      "metadata": {
        "id": "CMc-JNRshQX8"
      }
    },
    {
      "cell_type": "code",
      "execution_count": 22,
      "metadata": {
        "id": "stSGgea-2z1M"
      },
      "outputs": [],
      "source": [
        "# Maximum Logit Score (MLS)\n",
        "def mls(logits):\n",
        "    \"\"\"\n",
        "    Computes the Maximum Logit Score (MLS).\n",
        "    Args:\n",
        "    - logits: numpy array of logits for each test point (shape: [num_samples, num_classes]).\n",
        "\n",
        "    Returns:\n",
        "    - scores: numpy array of MLS scores (shape: [num_samples]).\n",
        "    \"\"\"\n",
        "    # MLS: Max of the logit values for each test point\n",
        "    scores = np.max(logits, axis=1)\n",
        "    return scores\n",
        "\n",
        "# Maximum Softmax Probability (MSP)\n",
        "def msp(logits):\n",
        "    \"\"\"\n",
        "    Computes the Maximum Softmax Probability (MSP).\n",
        "    Args:\n",
        "    - logits: numpy array of logits for each test point (shape: [num_samples, num_classes]).\n",
        "\n",
        "    Returns:\n",
        "    - scores: numpy array of MSP scores (shape: [num_samples]).\n",
        "    \"\"\"\n",
        "    # Compute softmax probabilities\n",
        "    exp_logits = np.exp(logits - np.max(logits, axis=1, keepdims=True))  # For numerical stability\n",
        "    softmax_probs = exp_logits / np.sum(exp_logits, axis=1, keepdims=True)\n",
        "    # MSP: Max of the softmax probabilities\n",
        "    scores = np.max(softmax_probs, axis=1)\n",
        "    return scores\n",
        "\n",
        "# Energy Score\n",
        "def energy(logits, temp=1):\n",
        "    \"\"\"\n",
        "    Computes the Energy score.\n",
        "    Args:\n",
        "    - logits: numpy array of logits for each test point (shape: [num_samples, num_classes]).\n",
        "    - temp: Temperature scaling parameter (default=1).\n",
        "\n",
        "    Returns:\n",
        "    - scores: numpy array of Energy scores (shape: [num_samples]).\n",
        "    \"\"\"\n",
        "    # Energy: -T * log(sum(exp(logits / T)))\n",
        "    energy_scores = -temp * np.log(np.sum(np.exp(logits / temp), axis=1))\n",
        "    return energy_scores\n",
        "\n",
        "# Entropy Score\n",
        "def entropy(logits):\n",
        "    \"\"\"\n",
        "    Computes the Entropy score.\n",
        "    Args:\n",
        "    - logits: numpy array of logits for each test point (shape: [num_samples, num_classes]).\n",
        "\n",
        "    Returns:\n",
        "    - scores: numpy array of Entropy scores (shape: [num_samples]).\n",
        "    \"\"\"\n",
        "    # Compute softmax probabilities\n",
        "    exp_logits = np.exp(logits - np.max(logits, axis=1, keepdims=True))  # For numerical stability\n",
        "    softmax_probs = exp_logits / np.sum(exp_logits, axis=1, keepdims=True)\n",
        "    # Entropy: -sum(p * log(p))\n",
        "    entropy_scores = -np.sum(softmax_probs * np.log(softmax_probs + 1e-12), axis=1)  # Add epsilon for stability\n",
        "    return entropy_scores\n"
      ]
    },
    {
      "cell_type": "markdown",
      "metadata": {
        "id": "JopT8Bl5EI2w"
      },
      "source": [
        "### 5.2. DKNN\n",
        "In this section we define a class `DKNN` to compute the Deep $K$-nearest neighbor score. This score is more involved than the previous ones for two main reasons:\n",
        "- It employs the activations of the penultimate layer of the CNN rather than the logit or softmax values.\n",
        "- It requires a fitting dataset in order to compute distances of the test images with respect to the images in the fitting dataset. We will be using the Cifar-10 training set as fitting dataset.\n",
        "\n",
        "*Exercise.* Complete the following methods in the class `DKNN` below:\n",
        "1. The `_l2_normalization` method that computes that normalizes a batch of feature vectors by dividing each feature vector by its $\\ell_2$ norm.\n",
        "2. The `compute_scores` function that computes the distance from each of the test points to its $k$-th nearest neighbor in the fit dataset. The distances are computed between the normalized feature representations. The test points are processed in batches to avoid memory issues."
      ]
    },
    {
      "cell_type": "code",
      "execution_count": 23,
      "metadata": {
        "id": "jFRquLyzEHPG"
      },
      "outputs": [],
      "source": [
        "import torch\n",
        "\n",
        "class DKNN:\n",
        "    def __init__(self, k=50, batch_size=256):\n",
        "        \"\"\"\n",
        "        Initializes the DKNN class.\n",
        "\n",
        "        Args:\n",
        "        - k: Number of nearest neighbors to consider.\n",
        "        - batch_size: Batch size for processing test points.\n",
        "        \"\"\"\n",
        "        self.k = k\n",
        "        self.batch_size = batch_size\n",
        "        self.fit_features = None\n",
        "\n",
        "    def _l2_normalization(self, feat):\n",
        "        \"\"\"\n",
        "        Normalizes a batch of feature vectors by dividing each vector by its ℓ2 norm.\n",
        "\n",
        "        Args:\n",
        "        - feat: Tensor of feature vectors (size: [num_samples, feature_dim]).\n",
        "\n",
        "        Returns:\n",
        "        - Normalized feature vectors (same size as input).\n",
        "        \"\"\"\n",
        "        # Compute the norm of each feature vector and add a small constant for numerical stability\n",
        "        norms = torch.norm(feat, p=2, dim=1, keepdim=True) + 1e-12\n",
        "        return feat / norms\n",
        "\n",
        "    def fit(self, fit_dataset):\n",
        "        \"\"\"\n",
        "        Fits the DKNN model using the fitting dataset (e.g., CIFAR-10 training set).\n",
        "\n",
        "        Args:\n",
        "        - fit_dataset: Tensor of feature representations of the fitting dataset\n",
        "                       (size: [num_fit_samples, feature_dim]).\n",
        "        \"\"\"\n",
        "        # Normalize the feature vectors in the fit dataset\n",
        "        self.fit_features = self._l2_normalization(fit_dataset)\n",
        "\n",
        "    def compute_scores(self, test_features):\n",
        "        \"\"\"\n",
        "        Computes the DKNN scores for the test features.\n",
        "\n",
        "        Args:\n",
        "        - test_features: Tensor of feature representations of test samples\n",
        "                         (size: [num_test_samples, feature_dim]).\n",
        "\n",
        "        Returns:\n",
        "        - scores: Numpy array of distances to the k-th nearest neighbor for each test sample\n",
        "                  (size: [num_test_samples]).\n",
        "        \"\"\"\n",
        "        # Normalize the test feature vectors\n",
        "        test_features = self._l2_normalization(test_features)\n",
        "        scores = []\n",
        "\n",
        "        # Process test features in batches to avoid memory issues\n",
        "        for i in range(0, test_features.size(0), self.batch_size):\n",
        "            batch = test_features[i:i + self.batch_size]  # Get the current batch of test features\n",
        "            # Compute pairwise distances between the batch and the fit dataset\n",
        "            distances = torch.cdist(batch, self.fit_features, p=2)  # (batch_size, num_fit_samples)\n",
        "            # Sort distances and extract the k-th nearest neighbor distance\n",
        "            kth_distances = torch.sort(distances, dim=1).values[:, self.k - 1]  # (batch_size,)\n",
        "            scores.append(kth_distances)\n",
        "\n",
        "        # Concatenate scores from all batches\n",
        "        return torch.cat(scores, dim=0).cpu().numpy()\n"
      ]
    },
    {
      "cell_type": "markdown",
      "metadata": {
        "id": "iC9JTzaUHQQR"
      },
      "source": [
        "### 5.3. Mahalanobis\n",
        "In this section we define a class `Mahalanobis` to compute the Mahalanobis score. This class is similar to the `DKNN` for the same reasons as before:\n",
        "- It employs the activations of the penultimate layer of the CNN rather than the logit or softmax values.\n",
        "- It requires a fitting dataset in order to compute distances of the test images with respect to the images in the fitting dataset. We will be using the Cifar-10 training set as fitting dataset.\n",
        "\n",
        "*Exercise.* Complete the following methods in the class `Mahalanobis` below:\n",
        "1. The `fit` method that fits per-class mean vectors and a common covariance matrix to the fitting dataset.\n",
        "2. The `_mahalanobis_distance` method that computes the Mahalanobis distance of a given vector with respect to the gaussian law parametrized by its mean vector and covariance matrix.\n",
        "3. The `compute_scores` function that uses the two previous methods to compute the Mahalanobis score of all test points by taking the maximum of Mahalanobis distances over the set of different classes/labels."
      ]
    },
    {
      "cell_type": "code",
      "execution_count": 29,
      "metadata": {
        "id": "t_raBxGqGynP"
      },
      "outputs": [],
      "source": [
        "import torch\n",
        "\n",
        "class Mahalanobis:\n",
        "    def __init__(self):\n",
        "        self.mus = None  # Dictionary to store per-class mean vectors\n",
        "        self.inv_cov = None  # Inverse covariance matrix\n",
        "        self.labels = None  # Unique labels in the fitting dataset\n",
        "\n",
        "    def fit(self, features, labels):\n",
        "        \"\"\"\n",
        "        Fits per-class mean vectors and a common covariance matrix to the fitting dataset.\n",
        "\n",
        "        Args:\n",
        "        - features: Tensor of feature representations (size: [num_samples, feature_dim]).\n",
        "        - labels: Tensor of corresponding labels (size: [num_samples]).\n",
        "        \"\"\"\n",
        "        self.labels = torch.unique(labels)  # Extract unique labels\n",
        "        self.mus = {}\n",
        "        covs = []\n",
        "\n",
        "        # Compute per-class mean vectors and covariance matrices\n",
        "        for label in self.labels:\n",
        "            class_features = features[labels == label]  # Select features of the current class\n",
        "            mu = class_features.mean(dim=0)  # Mean vector for the class\n",
        "            self.mus[label.item()] = mu\n",
        "            # Covariance matrix for the class (scaled by the number of samples)\n",
        "            cov = torch.cov(class_features.T) * class_features.size(0)\n",
        "            covs.append(cov)\n",
        "\n",
        "        # Compute the common covariance matrix\n",
        "        cov = sum(covs) / features.size(0)  # Aggregate covariance over all classes\n",
        "        self.inv_cov = torch.linalg.pinv(cov)  # Compute pseudo-inverse of covariance matrix\n",
        "\n",
        "    def _mahalanobis_distance(self, x, mu, inv_cov):\n",
        "        \"\"\"\n",
        "        Computes the Mahalanobis distance of a vector to a Gaussian distribution.\n",
        "\n",
        "        Args:\n",
        "        - x: Feature vector (size: [feature_dim]).\n",
        "        - mu: Mean vector (size: [feature_dim]).\n",
        "        - inv_cov: Inverse covariance matrix (size: [feature_dim, feature_dim]).\n",
        "\n",
        "        Returns:\n",
        "        - distance: Mahalanobis distance (scalar).\n",
        "        \"\"\"\n",
        "        delta = x - mu  # Difference from the mean\n",
        "        distance = torch.sqrt(delta @ inv_cov @ delta.T)  # Mahalanobis distance formula\n",
        "        return distance\n",
        "\n",
        "    def compute_scores(self, test_features):\n",
        "        \"\"\"\n",
        "        Computes the Mahalanobis score of all test points.\n",
        "\n",
        "        Args:\n",
        "        - test_features: Tensor of feature representations of test samples (size: [num_test_samples, feature_dim]).\n",
        "\n",
        "        Returns:\n",
        "        - scores: Numpy array of Mahalanobis scores for each test point (size: [num_test_samples]).\n",
        "        \"\"\"\n",
        "        scores = []\n",
        "        for test_feature in test_features:\n",
        "            # Compute Mahalanobis distances to all class means\n",
        "            distances = torch.tensor([\n",
        "                self._mahalanobis_distance(test_feature, self.mus[label.item()], self.inv_cov)\n",
        "                for label in self.labels\n",
        "            ])\n",
        "            # The Mahalanobis score is the maximum distance\n",
        "            scores.append(distances.max())\n",
        "        return torch.stack(scores).cpu().numpy()\n"
      ]
    },
    {
      "cell_type": "markdown",
      "source": [],
      "metadata": {
        "id": "21hsbkzbUYFi"
      }
    },
    {
      "cell_type": "markdown",
      "source": [
        "## 6. Score Comparison\n",
        "The objective of this section is to compare the different OOD scores that we have just defined. Note that in order to use the *threshold-dependent metrics*, we need to pick a threshold for each of the scores.\n",
        "\n",
        "Picking the same threshold for all scores *is not* a proper way to compare the different scores, since thy are scaled differently. A common way to perform a more \"fair\" comparison is to do the following:\n",
        "1. Fix a target TPR, e.g. 0.9.\n",
        "2. Compute the threshold $\\tau$ such that the TPR on the SVHN test dataset is equal to the target TPR 0.9.\n",
        "3. Compute the remaining fixed-threshold metrics for such $\\tau$.\n",
        "\n",
        "**Exercise.** Define the function `compute_threshold` that:\n",
        "- Takes as inputs `scores`, a numpy array of scores and a `target_tpr`, a value between 0 and 1 defaulting to 0.95.\n",
        "- Assuming that the array of `scores` contains the scores of the positive examples, the function computes and returns the value of the threshold $\\tau$ that achieves the desired `target_tpr`."
      ],
      "metadata": {
        "id": "wOTwj3XfGk8K"
      }
    },
    {
      "cell_type": "code",
      "source": [
        "def compute_threshold(scores, target_tpr=0.95):\n",
        "    \"\"\"\n",
        "    Computes the threshold τ to achieve the desired target TPR.\n",
        "\n",
        "    Args:\n",
        "    - scores: numpy array of scores for the positive examples.\n",
        "    - target_tpr: Desired target True Positive Rate (default=0.95).\n",
        "\n",
        "    Returns:\n",
        "    - threshold: The threshold τ that achieves the target TPR.\n",
        "    \"\"\"\n",
        "    # Sort scores in ascending order\n",
        "    sorted_scores = np.sort(scores)\n",
        "\n",
        "    # Compute the index corresponding to the desired TPR\n",
        "    num_positives = len(sorted_scores)\n",
        "    target_index = int(np.ceil((1 - target_tpr) * num_positives)) - 1\n",
        "\n",
        "    # Ensure the index is within bounds\n",
        "    target_index = max(target_index, 0)\n",
        "\n",
        "    # The threshold is the score at the target index\n",
        "    threshold = sorted_scores[target_index]\n",
        "\n",
        "    return threshold"
      ],
      "metadata": {
        "id": "BMpdncvKGfaJ"
      },
      "execution_count": 25,
      "outputs": []
    },
    {
      "cell_type": "markdown",
      "source": [
        "In order to compare the different OOD scores that we have defined, we set the variable `target_tpr` equal to 0.9 and we initialise an empty dictionary to store the different metrics for the different OOD scores."
      ],
      "metadata": {
        "id": "orF-EhfcVxvT"
      }
    },
    {
      "cell_type": "code",
      "source": [
        "target_tpr = 0.9\n",
        "metrics_dict = {}"
      ],
      "metadata": {
        "id": "fG3eR20wGppC"
      },
      "execution_count": 26,
      "outputs": []
    },
    {
      "cell_type": "markdown",
      "source": [
        "### 6.1. Metrics for logit-based scores\n",
        "\n",
        "**Exercise.** Next we compute the different evaluation metrics for each of the scores above, starting with the *logit-based scores*:\n",
        "1. Extract the logits of the Cifar-10 test set and the SVHN test set.\n",
        "2. For each of the *MLS*, *MSP*, *Energy (T=1)* and *Entropy* OOD score functions:\n",
        "  - Compute the scores on the Cifar-10 test set and the SVHN test set.\n",
        "  - Plot the histogram of the scores and check that the negative samples have, on average, lower scores than the positive samples.\n",
        "  - Use the `roc_auc` function to plot the ROC curves and compute the AUROCs.\n",
        "  - Compute the trhreshold that achieves 0.1 FPR and compute the fixed-threshold metrics associated to it: accuracy, TPR, Precision, Recall and $F_1$.\n",
        "  - Store all the metrics in the `metrics_dict` dictionary for future comparison."
      ],
      "metadata": {
        "id": "8t3zX3pYW5bM"
      }
    },
    {
      "cell_type": "code",
      "source": [
        "def compute_logits(dataset, model, device):\n",
        "    \"\"\"\n",
        "    Computes the logits of all elements in the dataset using the provided model.\n",
        "\n",
        "    Args:\n",
        "    - dataset: DataLoader or dataset containing test samples.\n",
        "    - model: Trained PyTorch model for inference.\n",
        "    - device: Device to run the model on (e.g., 'cpu' or 'cuda').\n",
        "\n",
        "    Returns:\n",
        "    - logits: Torch tensor containing logits for all samples in the dataset.\n",
        "    \"\"\"\n",
        "    model.eval()  # Set the model to evaluation mode\n",
        "    logits = []\n",
        "\n",
        "    with torch.no_grad():\n",
        "        for images, _ in dataset:  # Assuming the dataset is a DataLoader\n",
        "            images = images.to(device)\n",
        "            output = model(images)  # Forward pass to compute logits\n",
        "            logits.append(output)\n",
        "\n",
        "    # Concatenate all logits into a single tensor\n",
        "    logits = torch.cat(logits, dim=0)\n",
        "    return logits\n",
        "\n",
        "# Compute logits for CIFAR-10 (negative samples) and SVHN (positive samples)\n",
        "test_logits_negatives = compute_logits(cifar_test_loader, model, device)\n",
        "test_logits_positives = compute_logits(svhn_test_loader, model, device)\n",
        "\n"
      ],
      "metadata": {
        "id": "Updp2_mpfb7j"
      },
      "execution_count": 30,
      "outputs": []
    },
    {
      "cell_type": "code",
      "source": [
        "# Define scoring functions\n",
        "scoring_functions = {\n",
        "    'MLS': mls,\n",
        "    'MSP': msp,\n",
        "    'Energy': lambda logits: energy(logits, temp=1),\n",
        "    'Entropy': entropy\n",
        "}\n",
        "\n",
        "# Dictionary to store metrics for each method\n",
        "metrics_dict = {}\n",
        "\n",
        "for method, scoring_function in scoring_functions.items():\n",
        "    print(f\"Evaluating {method}...\")\n",
        "\n",
        "    # Compute scores for negatives (CIFAR-10) and positives (SVHN)\n",
        "    scores_negatives = scoring_function(test_logits_negatives.cpu().numpy())\n",
        "    scores_positives = scoring_function(test_logits_positives.cpu().numpy())\n",
        "\n",
        "    # Plot histogram of scores\n",
        "    plt.figure()\n",
        "    plt.hist(scores_negatives, bins=50, alpha=0.5, label=\"CIFAR-10 (Negatives)\")\n",
        "    plt.hist(scores_positives, bins=50, alpha=0.5, label=\"SVHN (Positives)\")\n",
        "    plt.title(f\"Histogram of {method} Scores\")\n",
        "    plt.xlabel(\"Score\")\n",
        "    plt.ylabel(\"Frequency\")\n",
        "    plt.legend()\n",
        "    plt.show()\n",
        "\n",
        "    # Initialize dictionary for this method's metrics\n",
        "    metrics_dict[method] = {}\n",
        "\n",
        "    # Plot ROC curve and compute AUROC\n",
        "    labels = np.concatenate([np.zeros_like(scores_negatives), np.ones_like(scores_positives)])\n",
        "    scores = np.concatenate([scores_negatives, scores_positives])\n",
        "    auroc = roc_auc_score(labels, scores)\n",
        "    metrics_dict[method]['AUROC'] = auroc\n",
        "    print(f\"{method} AUROC: {auroc:.4f}\")\n",
        "\n",
        "    # Compute threshold for the given target TPR\n",
        "    threshold = compute_threshold(scores_positives, target_tpr=0.9)\n",
        "    metrics_dict[method]['Threshold'] = threshold\n",
        "    print(f\"{method} Threshold for 0.9 TPR: {threshold:.4f}\")\n",
        "\n",
        "    # Compute and store remaining metrics\n",
        "    fixed_metrics = fixed_threshold_metrics(scores_negatives, scores_positives, threshold)\n",
        "    metrics_dict[method].update(fixed_metrics)\n",
        "\n",
        "# Print summary of all metrics\n",
        "print(\"Summary of OOD Score Metrics:\")\n",
        "for method, metrics in metrics_dict.items():\n",
        "    print(f\"{method}: {metrics}\")\n"
      ],
      "metadata": {
        "id": "d9SW-wTyW8AF",
        "outputId": "1cff7510-6a2b-402d-de2b-c5ba7229f5a4",
        "colab": {
          "base_uri": "https://localhost:8080/",
          "height": 1000
        }
      },
      "execution_count": 34,
      "outputs": [
        {
          "output_type": "stream",
          "name": "stdout",
          "text": [
            "Evaluating MLS...\n"
          ]
        },
        {
          "output_type": "display_data",
          "data": {
            "text/plain": [
              "<Figure size 640x480 with 1 Axes>"
            ],
            "image/png": "[encoded data removed]"
          },
          "metadata": {}
        },
        {
          "output_type": "stream",
          "name": "stdout",
          "text": [
            "MLS AUROC: 0.1708\n",
            "MLS Threshold for 0.9 TPR: 1.6177\n",
            "Evaluating MSP...\n"
          ]
        },
        {
          "output_type": "display_data",
          "data": {
            "text/plain": [
              "<Figure size 640x480 with 1 Axes>"
            ],
            "image/png": "[encoded data removed]"
          },
          "metadata": {}
        },
        {
          "output_type": "stream",
          "name": "stdout",
          "text": [
            "MSP AUROC: 0.1903\n",
            "MSP Threshold for 0.9 TPR: 0.3701\n",
            "Evaluating Energy...\n"
          ]
        },
        {
          "output_type": "display_data",
          "data": {
            "text/plain": [
              "<Figure size 640x480 with 1 Axes>"
            ],
            "image/png": "[encoded data removed]"
          },
          "metadata": {}
        },
        {
          "output_type": "stream",
          "name": "stdout",
          "text": [
            "Energy AUROC: 0.8229\n",
            "Energy Threshold for 0.9 TPR: -5.5031\n",
            "Evaluating Entropy...\n"
          ]
        },
        {
          "output_type": "display_data",
          "data": {
            "text/plain": [
              "<Figure size 640x480 with 1 Axes>"
            ],
            "image/png": "[encoded data removed]"
          },
          "metadata": {}
        },
        {
          "output_type": "stream",
          "name": "stdout",
          "text": [
            "Entropy AUROC: 0.8279\n",
            "Entropy Threshold for 0.9 TPR: 0.5526\n",
            "Summary of OOD Score Metrics:\n",
            "MLS: {'AUROC': 0.17080759, 'Threshold': 1.6176581, 'Accuracy': 0.46075, 'TPR': 0.9, 'Precision': 0.4791056694170881, 'Recall': 0.9, 'F1': 0.6253256904637833}\n",
            "MSP: {'AUROC': 0.19034294000000002, 'Threshold': 0.37006265, 'Accuracy': 0.4606, 'TPR': 0.9, 'Precision': 0.47902916755375774, 'Recall': 0.9, 'F1': 0.6252605252188411}\n",
            "Energy: {'AUROC': 0.8228582900000001, 'Threshold': -5.503103, 'Accuracy': 0.7497, 'TPR': 0.9, 'Precision': 0.6919883130862678, 'Recall': 0.9, 'F1': 0.7824045901069286}\n",
            "Entropy: {'AUROC': 0.8279420650000001, 'Threshold': 0.55263275, 'Accuracy': 0.7509, 'TPR': 0.9, 'Precision': 0.6932676012940995, 'Recall': 0.9, 'F1': 0.7832216517274389}\n"
          ]
        }
      ]
    },
    {
      "cell_type": "markdown",
      "source": [
        "### 6.2. Metrics for feature-based scores\n",
        "\n",
        "**Exercise.** Extract the representations in the feature space given by the penultimate layer of the CNN of the three datasets: Cifar-10 training dataset, Cifar-10 test set and SVHN test set."
      ],
      "metadata": {
        "id": "yXnQfea1XvGZ"
      }
    },
    {
      "cell_type": "code",
      "source": [
        "def compute_features(dataset, model, device):\n",
        "    \"\"\"\n",
        "    Computes the feature representations from the penultimate layer of a CNN.\n",
        "\n",
        "    Args:\n",
        "    - dataset: DataLoader or dataset containing test samples.\n",
        "    - model: Trained PyTorch model for inference.\n",
        "    - device: Device to run the model on (e.g., 'cpu' or 'cuda').\n",
        "\n",
        "    Returns:\n",
        "    - features: Torch tensor containing feature representations for all samples in the dataset.\n",
        "    \"\"\"\n",
        "    model.eval()  # Set the model to evaluation mode\n",
        "    features = []\n",
        "\n",
        "    # Modify the forward method to extract the penultimate layer output\n",
        "    def forward_hook(module, input, output):\n",
        "        features.append(output)\n",
        "\n",
        "    # Register a forward hook to the penultimate layer (adjust layer name if different)\n",
        "    hook = model.fc1.register_forward_hook(forward_hook)\n",
        "\n",
        "    with torch.no_grad():\n",
        "        for images, _ in dataset:  # Assuming the dataset is a DataLoader\n",
        "            images = images.to(device)\n",
        "            _ = model(images)  # Forward pass, hooks will capture the intermediate output\n",
        "\n",
        "    # Remove the hook to avoid side effects\n",
        "    hook.remove()\n",
        "\n",
        "    # Concatenate features collected from all batches\n",
        "    features = torch.cat(features, dim=0)\n",
        "    return features\n",
        "# Assuming DataLoader objects cifar_train_loader, cifar_test_loader, svhn_test_loader\n",
        "# and the model is loaded as `model`, and device is 'cuda' or 'cpu'\n",
        "\n",
        "train_features = compute_features(train_loader, model, device)\n",
        "test_features_negatives = compute_features(cifar_test_loader, model, device)\n",
        "test_features_positives = compute_features(svhn_test_loader, model, device)\n"
      ],
      "metadata": {
        "id": "MkD-GUAGxOsU"
      },
      "execution_count": 36,
      "outputs": []
    },
    {
      "cell_type": "markdown",
      "source": [
        "**Exercise.**\n",
        "1. Compute the *DKNN scores* for the Cifar-10 test dataset and the SVHN test datsets using the 5-th nearest neighbor.\n",
        "2. Plot the histogram of the scores and check that the negative samples have, on average, lower scores than the positive samples.\n",
        "2. Use the `roc_auc` function to plot the ROC curve and compute the AUROC.\n",
        "3. Compute the trhreshold that achieves 0.1 FPR and compute the fixed-threshold metrics associated to it: accuracy, TPR, Precision, Recall and $F_1$.\n",
        "4. Store all the metrics in the `metrics_dict` dictionary for future comparison.\n"
      ],
      "metadata": {
        "id": "3VX2JvpuYEnp"
      }
    },
    {
      "cell_type": "code",
      "source": [
        "import numpy as np\n",
        "import matplotlib.pyplot as plt\n",
        "from sklearn.metrics import roc_auc_score\n",
        "\n",
        "# Initialize metrics dictionary for DKNN\n",
        "metrics_dict = {}\n",
        "metrics_dict['DKNN'] = {}\n",
        "\n",
        "# Initialize and fit the DKNN model\n",
        "k = 5\n",
        "dknn_model = DKNN(k=k, batch_size=256)  # Assuming the DKNN class from before\n",
        "dknn_model.fit(train_features)  # Fit with CIFAR-10 training features\n",
        "\n",
        "# Compute the scores for negatives (CIFAR-10 test set) and positives (SVHN test set)\n",
        "scores_negatives = dknn_model.compute_scores(test_features_negatives)\n",
        "scores_positives = dknn_model.compute_scores(test_features_positives)\n",
        "\n",
        "# Plot the histogram of the scores\n",
        "plt.figure()\n",
        "plt.hist(scores_negatives, bins=50, alpha=0.5, label=\"CIFAR-10 (Negatives)\")\n",
        "plt.hist(scores_positives, bins=50, alpha=0.5, label=\"SVHN (Positives)\")\n",
        "plt.title(\"Histogram of DKNN Scores\")\n",
        "plt.xlabel(\"Score\")\n",
        "plt.ylabel(\"Frequency\")\n",
        "plt.legend()\n",
        "plt.show()\n",
        "\n",
        "# Plot ROC curve and compute AUROC\n",
        "labels = np.concatenate([np.zeros_like(scores_negatives), np.ones_like(scores_positives)])\n",
        "scores = np.concatenate([scores_negatives, scores_positives])\n",
        "auroc = roc_auc_score(labels, scores)\n",
        "metrics_dict['DKNN']['AUROC'] = auroc\n",
        "print(f\"DKNN AUROC: {auroc:.4f}\")\n",
        "\n",
        "# Compute threshold for the given target FPR (e.g., 0.1)\n",
        "threshold = compute_threshold(scores_positives, target_tpr=0.9)\n",
        "metrics_dict['DKNN']['Threshold'] = threshold\n",
        "print(f\"DKNN Threshold for 0.9 TPR: {threshold:.4f}\")\n",
        "\n",
        "# Compute and store fixed-threshold metrics\n",
        "fixed_metrics = fixed_threshold_metrics(scores_negatives, scores_positives, threshold)\n",
        "metrics_dict['DKNN'].update(fixed_metrics)\n",
        "\n",
        "# Print summary of DKNN metrics\n",
        "print(\"DKNN Metrics Summary:\")\n",
        "for metric, value in metrics_dict['DKNN'].items():\n",
        "    print(f\"{metric}: {value}\")\n"
      ],
      "metadata": {
        "id": "rJkeW3oy7-LV",
        "outputId": "e19beb44-b6c9-422b-993d-197d71543301",
        "colab": {
          "base_uri": "https://localhost:8080/",
          "height": 646
        }
      },
      "execution_count": 37,
      "outputs": [
        {
          "output_type": "display_data",
          "data": {
            "text/plain": [
              "<Figure size 640x480 with 1 Axes>"
            ],
            "image/png": "[encoded data removed]"
          },
          "metadata": {}
        },
        {
          "output_type": "stream",
          "name": "stdout",
          "text": [
            "DKNN AUROC: 0.5324\n",
            "DKNN Threshold for 0.9 TPR: 0.4577\n",
            "DKNN Metrics Summary:\n",
            "AUROC: 0.532395715\n",
            "Threshold: 0.4577355980873108\n",
            "Accuracy: 0.54745\n",
            "TPR: 0.9\n",
            "Precision: 0.5278282798662836\n",
            "Recall: 0.9\n",
            "F1: 0.6654097815237884\n"
          ]
        }
      ]
    },
    {
      "cell_type": "markdown",
      "source": [
        "**Exercise.**\n",
        "1. Compute the *Mahalanobis scores* for the Cifar-10 test dataset and the SVHN test datsets using the 5-th nearest neighbor.\n",
        "2. Plot the histogram of the scores and check that the negative samples have, on average, lower scores than the positive samples.\n",
        "2. Use the `roc_auc` function to plot the ROC curve and compute the AUROC.\n",
        "3. Compute the trhreshold that achieves 0.1 FPR and compute the fixed-threshold metrics associated to it: accuracy, TPR, Precision, Recall and $F_1$.\n",
        "4. Store all the metrics in the `metrics_dict` dictionary for future comparison."
      ],
      "metadata": {
        "id": "B1dyipW0YSLU"
      }
    },
    {
      "cell_type": "code",
      "source": [
        "import numpy as np\n",
        "import matplotlib.pyplot as plt\n",
        "from sklearn.metrics import roc_auc_score\n",
        "# Extract labels directly\n",
        "train_labels = torch.tensor([label for _, label in cifar_train])\n",
        "# Initialize metrics dictionary for Mahalanobis\n",
        "metrics_dict = {}\n",
        "metrics_dict['Mahalanobis'] = {}\n",
        "\n",
        "# Initialize and fit the Mahalanobis model\n",
        "mahalanobis_model = Mahalanobis()\n",
        "mahalanobis_model.fit(train_features, train_labels)  # Assuming `train_labels` are available\n",
        "\n",
        "# Compute the scores for negatives (CIFAR-10 test set) and positives (SVHN test set)\n",
        "scores_negatives = mahalanobis_model.compute_scores(test_features_negatives)\n",
        "scores_positives = mahalanobis_model.compute_scores(test_features_positives)\n",
        "\n",
        "# Plot the histogram of the scores\n",
        "plt.figure()\n",
        "plt.hist(scores_negatives, bins=50, alpha=0.5, label=\"CIFAR-10 (Negatives)\")\n",
        "plt.hist(scores_positives, bins=50, alpha=0.5, label=\"SVHN (Positives)\")\n",
        "plt.title(\"Histogram of Mahalanobis Scores\")\n",
        "plt.xlabel(\"Score\")\n",
        "plt.ylabel(\"Frequency\")\n",
        "plt.legend()\n",
        "plt.show()\n",
        "\n",
        "# Plot ROC curve and compute AUROC\n",
        "labels = np.concatenate([np.zeros_like(scores_negatives), np.ones_like(scores_positives)])\n",
        "scores = np.concatenate([scores_negatives, scores_positives])\n",
        "auroc = roc_auc_score(labels, scores)\n",
        "metrics_dict['Mahalanobis']['AUROC'] = auroc\n",
        "print(f\"Mahalanobis AUROC: {auroc:.4f}\")\n",
        "\n",
        "# Compute threshold for the given target TPR (e.g., 0.9)\n",
        "threshold = compute_threshold(scores_positives, target_tpr=0.9)\n",
        "metrics_dict['Mahalanobis']['Threshold'] = threshold\n",
        "print(f\"Mahalanobis Threshold for 0.9 TPR: {threshold:.4f}\")\n",
        "\n",
        "# Compute and store fixed-threshold metrics\n",
        "fixed_metrics = fixed_threshold_metrics(scores_negatives, scores_positives, threshold)\n",
        "metrics_dict['Mahalanobis'].update(fixed_metrics)\n",
        "\n",
        "# Print summary of Mahalanobis metrics\n",
        "print(\"Mahalanobis Metrics Summary:\")\n",
        "for metric, value in metrics_dict['Mahalanobis'].items():\n",
        "    print(f\"{metric}: {value}\")\n"
      ],
      "metadata": {
        "id": "aGtk3cMq-Lnn",
        "outputId": "947349d6-2fc0-4ab9-d317-5811a0a31909",
        "colab": {
          "base_uri": "https://localhost:8080/",
          "height": 700
        }
      },
      "execution_count": 40,
      "outputs": [
        {
          "output_type": "stream",
          "name": "stderr",
          "text": [
            "<ipython-input-29-0700d55d7e75>:47: UserWarning: The use of `x.T` on tensors of dimension other than 2 to reverse their shape is deprecated and it will throw an error in a future release. Consider `x.mT` to transpose batches of matrices or `x.permute(*torch.arange(x.ndim - 1, -1, -1))` to reverse the dimensions of a tensor. (Triggered internally at ../aten/src/ATen/native/TensorShape.cpp:3683.)\n",
            "  distance = torch.sqrt(delta @ inv_cov @ delta.T)  # Mahalanobis distance formula\n"
          ]
        },
        {
          "output_type": "display_data",
          "data": {
            "text/plain": [
              "<Figure size 640x480 with 1 Axes>"
            ],
            "image/png": "[encoded data removed]"
          },
          "metadata": {}
        },
        {
          "output_type": "stream",
          "name": "stdout",
          "text": [
            "Mahalanobis AUROC: 0.1583\n",
            "Mahalanobis Threshold for 0.9 TPR: 5.7227\n",
            "Mahalanobis Metrics Summary:\n",
            "AUROC: 0.15827267\n",
            "Threshold: 5.7227301597595215\n",
            "Accuracy: 0.45185\n",
            "TPR: 0.9\n",
            "Precision: 0.47460844803037494\n",
            "Recall: 0.9\n",
            "F1: 0.6214825812243208\n"
          ]
        }
      ]
    },
    {
      "cell_type": "markdown",
      "source": [
        "## Results Table\n",
        "**Exercise.** Plot the results stored in the dictionary `metrics_dict` by highlighting the method that achieves the best value for each of the different metrics."
      ],
      "metadata": {
        "id": "L1BB9H-HBHyn"
      }
    },
    {
      "cell_type": "code",
      "source": [
        "# TODO: Display a table with the best results highlited.\n",
        "# Careful! The best result is not always the maximum value!"
      ],
      "metadata": {
        "id": "PknDmPmxBsJ7"
      },
      "execution_count": null,
      "outputs": []
    },
    {
      "cell_type": "markdown",
      "source": [
        "**Bonus Exercises.** If you still have time, you can try and do the following:\n",
        "1. Play with different temperature parameters in the *Energy* score to see how they affect the different metrics.\n",
        "2. Play with different $k$ parameters in the *DKNN* algorithm to see how they affect the different metrics.\n",
        "3. Write docstirngs for the above function (In the future, you will be greatful to your current self if you find yourself checking out this notebook and the docstrings are there).\n",
        "4. Download a better model (e.g. a pre-trained VGG model fine-tuned on Cifar-10) and check out if you get better results with it.\n",
        "5. Check out the OODEEL library where a benchmark like the one we have just carried-out is much easier to perform ;)"
      ],
      "metadata": {
        "id": "vcmhGIHABXlT"
      }
    },
    {
      "cell_type": "code",
      "source": [],
      "metadata": {
        "id": "zhErhCaSCm4o"
      },
      "execution_count": null,
      "outputs": []
    }
  ],
  "metadata": {
    "colab": {
      "toc_visible": true,
      "provenance": [],
      "gpuType": "T4"
    },
    "kernelspec": {
      "display_name": "Python 3",
      "name": "python3"
    },
    "language_info": {
      "name": "python"
    },
    "accelerator": "GPU"
  },
  "nbformat": 4,
  "nbformat_minor": 0
}